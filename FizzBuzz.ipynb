{
 "cells": [
  {
   "cell_type": "code",
   "execution_count": 8,
   "id": "e0dd46fc-cd5a-4a9e-98d3-91374f92f422",
   "metadata": {},
   "outputs": [
    {
     "name": "stdout",
     "output_type": "stream",
     "text": [
      "1\n",
      "2\n",
      "Fizz\n",
      "4\n",
      "Buzz\n",
      "Fizz\n",
      "7\n",
      "8\n",
      "Fizz\n",
      "Buzz\n",
      "11\n",
      "Fizz\n",
      "13\n",
      "14\n",
      "FizzBuzz\n",
      "16\n",
      "17\n",
      "Fizz\n",
      "19\n"
     ]
    }
   ],
   "source": [
    "for n in range (1,20):\n",
    "    if n%3==0 and n%5==0:\n",
    "        print('FizzBuzz')    \n",
    "    elif n%3 == 0:\n",
    "        print('Fizz')\n",
    "    elif n%5 == 0:\n",
    "        print ('Buzz')\n",
    "    else:\n",
    "        print(n)"
   ]
  },
  {
   "cell_type": "code",
   "execution_count": 2,
   "id": "dcde70cb-4103-419d-bf52-62c3a4b2b165",
   "metadata": {},
   "outputs": [
    {
     "name": "stdout",
     "output_type": "stream",
     "text": [
      "Hola como estas Beleno?\n"
     ]
    }
   ],
   "source": [
    "print('Hola como estas Beleno?')"
   ]
  },
  {
   "cell_type": "code",
   "execution_count": null,
   "id": "eed2b599-fab3-4435-bf93-78060b8480e2",
   "metadata": {},
   "outputs": [],
   "source": []
  }
 ],
 "metadata": {
  "kernelspec": {
   "display_name": "Python 3 (ipykernel)",
   "language": "python",
   "name": "python3"
  },
  "language_info": {
   "codemirror_mode": {
    "name": "ipython",
    "version": 3
   },
   "file_extension": ".py",
   "mimetype": "text/x-python",
   "name": "python",
   "nbconvert_exporter": "python",
   "pygments_lexer": "ipython3",
   "version": "3.11.0"
  }
 },
 "nbformat": 4,
 "nbformat_minor": 5
}
